{
 "cells": [
  {
   "cell_type": "code",
   "execution_count": 1,
   "id": "91659622-37b2-4a1c-bf0d-2e516be1d548",
   "metadata": {},
   "outputs": [
    {
     "name": "stdout",
     "output_type": "stream",
     "text": [
      "3.11.9\n"
     ]
    }
   ],
   "source": [
    "from platform import python_version\n",
    "\n",
    "print(python_version())"
   ]
  },
  {
   "cell_type": "code",
   "execution_count": 2,
   "id": "3aacea60-7959-4154-9f24-bce3a638ed45",
   "metadata": {},
   "outputs": [
    {
     "name": "stdout",
     "output_type": "stream",
     "text": [
      "Qiskit version: 2.0.3\n",
      "Grader version: 0.22.9\n"
     ]
    }
   ],
   "source": [
    "import qiskit\n",
    "import qc_grader\n",
    "\n",
    "print(f\"Qiskit version: {qiskit.__version__}\")\n",
    "print(f\"Grader version: {qc_grader.__version__}\")"
   ]
  },
  {
   "cell_type": "code",
   "execution_count": 3,
   "id": "b975acf0-2efc-4bd1-98db-d2ba578611d5",
   "metadata": {},
   "outputs": [],
   "source": [
    "# Save your API key to track your progress and have access to the quantum computers\n",
    "\n",
    "your_api_key = \"TjsUi7FnctBL0cYkFsJAMNHrGJkb4Pj7Dn4Ct71RTUX9\"\n",
    "your_crn = \"crn:v1:bluemix:public:quantum-computing:us-east:a/0a47d07759a4490eb699bc3560c10e9b:7e0cbe99-6ea4-4ff0-889e-2db9b7a600e9::\"\n",
    "\n",
    "from qiskit_ibm_runtime import QiskitRuntimeService\n",
    "\n",
    "QiskitRuntimeService.save_account(\n",
    "    channel=\"ibm_quantum_platform\",\n",
    "    token=your_api_key,\n",
    "    instance=your_crn,\n",
    "    name=\"qgss-2025\",\n",
    "    overwrite=True\n",
    ")"
   ]
  },
  {
   "cell_type": "code",
   "execution_count": 4,
   "id": "fef7f776-ffad-47f5-bbe5-1e9b15fba26e",
   "metadata": {},
   "outputs": [
    {
     "data": {
      "text/plain": [
       "{'qgss-2025': {'channel': 'ibm_quantum_platform',\n",
       "  'url': 'https://cloud.ibm.com',\n",
       "  'token': 'TjsUi7FnctBL0cYkFsJAMNHrGJkb4Pj7Dn4Ct71RTUX9',\n",
       "  'instance': 'crn:v1:bluemix:public:quantum-computing:us-east:a/0a47d07759a4490eb699bc3560c10e9b:7e0cbe99-6ea4-4ff0-889e-2db9b7a600e9::',\n",
       "  'verify': True,\n",
       "  'private_endpoint': False}}"
      ]
     },
     "execution_count": 4,
     "metadata": {},
     "output_type": "execute_result"
    }
   ],
   "source": [
    "# Check that the account has been saved properly\n",
    "service = QiskitRuntimeService(name=\"qgss-2025\")\n",
    "service.saved_accounts()"
   ]
  },
  {
   "cell_type": "code",
   "execution_count": 5,
   "id": "6ce37503-1a87-45af-8012-8d18fb67c49b",
   "metadata": {},
   "outputs": [],
   "source": [
    "import matplotlib.pyplot as plt\n",
    "\n",
    "from qiskit import QuantumCircuit, generate_preset_pass_manager\n",
    "from qiskit.visualization import plot_histogram\n",
    "from qiskit.quantum_info import SparsePauliOp\n",
    "\n",
    "from qiskit_ibm_runtime import QiskitRuntimeService, SamplerV2 as Sampler, EstimatorV2 as Estimator\n",
    "\n",
    "from qiskit_aer import AerSimulator\n",
    "\n",
    "from qc_grader.challenges.qgss_2025 import grade_lab0_ex1, grade_lab0_ex2"
   ]
  },
  {
   "cell_type": "code",
   "execution_count": 6,
   "id": "9a6c03be-0ffd-43c9-a7c3-4ceda537f54e",
   "metadata": {},
   "outputs": [
    {
     "data": {
      "image/png": "[encoded data removed]",
      "text/plain": [
       "<Figure size 287.294x200.667 with 1 Axes>"
      ]
     },
     "execution_count": 6,
     "metadata": {},
     "output_type": "execute_result"
    }
   ],
   "source": [
    "# Create a new circuit with a single qubit\n",
    "qc = QuantumCircuit(2)\n",
    "# Add a H gate to qubit 0\n",
    "qc.h(0)\n",
    "# Add a CNOT gate to qubit 1\n",
    "qc.cx(0, 1)\n",
    "# Return a drawing of the circuit using MatPlotLib (\"mpl\").\n",
    "qc.draw(\"mpl\")"
   ]
  },
  {
   "cell_type": "code",
   "execution_count": 7,
   "id": "50ab520d-2124-4acf-abe6-737f2ebc43c1",
   "metadata": {},
   "outputs": [
    {
     "data": {
      "image/png": "[encoded data removed]",
      "text/plain": [
       "<Figure size 371.107x284.278 with 1 Axes>"
      ]
     },
     "execution_count": 7,
     "metadata": {},
     "output_type": "execute_result"
    }
   ],
   "source": [
    "from qiskit import QuantumCircuit\n",
    "\n",
    "# Create a new circuit with three qubits\n",
    "qc = QuantumCircuit(3)\n",
    "\n",
    "### WRITE YOUR CODE BELOW HERE ###\n",
    "# Add a H gate to qubit 0\n",
    "qc.h(0)\n",
    "\n",
    "# Add a CNOT gate to qubits 0 and 1\n",
    "qc.cx(0, 1)\n",
    "\n",
    "# Add a CNOT gate to qubits 1 and 2\n",
    "qc.cx(1, 2)\n",
    "\n",
    "### YOUR CODE FINISHES HERE    ###\n",
    "\n",
    "# Return a drawing of the circuit using MatPlotLib (\"mpl\").\n",
    "qc.draw(\"mpl\")"
   ]
  },
  {
   "cell_type": "code",
   "execution_count": 8,
   "id": "7dbab269-b673-49b4-9488-39a5768e0778",
   "metadata": {},
   "outputs": [
    {
     "name": "stdout",
     "output_type": "stream",
     "text": [
      "Submitting your answer. Please wait...\n",
      "Congratulations 🎉! Your answer is correct and has been submitted.\n"
     ]
    }
   ],
   "source": [
    "# Submit your answer using following code\n",
    "grade_lab0_ex1(qc)"
   ]
  },
  {
   "cell_type": "code",
   "execution_count": 9,
   "id": "623d0cdc-9862-46d8-8697-025cb28ec88d",
   "metadata": {},
   "outputs": [
    {
     "data": {
      "image/png": "[encoded data removed]",
      "text/plain": [
       "<Figure size 507.401x284.278 with 1 Axes>"
      ]
     },
     "execution_count": 9,
     "metadata": {},
     "output_type": "execute_result"
    }
   ],
   "source": [
    "### WRITE YOUR CODE BELOW HERE ###\n",
    "# Write the coupling map of connections between qubits 0 and 1 and 0 and 2 as a list of pairs: [[0,1],...]\n",
    "coupling_map = [[0,1], [0,2]]\n",
    "\n",
    "# Transpile the quantum circuit `qc` using the `transpile` function and the coupling map\n",
    "from qiskit import transpile\n",
    "qc_transpiled = transpile(qc, coupling_map=coupling_map)\n",
    "### YOUR CODE FINISHES HERE    ###\n",
    "\n",
    "qc_transpiled.draw(\"mpl\")"
   ]
  },
  {
   "cell_type": "code",
   "execution_count": 10,
   "id": "a17cb543-1ffd-44df-934c-2bb331994420",
   "metadata": {},
   "outputs": [
    {
     "name": "stdout",
     "output_type": "stream",
     "text": [
      "Submitting your answer. Please wait...\n",
      "Congratulations 🎉! Your answer is correct and has been submitted.\n"
     ]
    }
   ],
   "source": [
    "# Submit your answer using following code\n",
    "grade_lab0_ex2(qc_transpiled)"
   ]
  },
  {
   "cell_type": "code",
   "execution_count": 11,
   "id": "7bd7a360-a444-4e3e-9814-df44208666a4",
   "metadata": {},
   "outputs": [],
   "source": [
    "# Add measurement operations\n",
    "qc.measure_all()\n",
    "\n",
    "# Set up the backend\n",
    "backend = AerSimulator()\n",
    "\n",
    "# Set up the sampler\n",
    "sampler = Sampler(mode=backend)\n",
    "\n",
    "# Submit the circuit to Sampler\n",
    "pm = generate_preset_pass_manager(backend=backend, optimization_level=1)\n",
    "job = sampler.run(pm.run([qc]))\n",
    "\n",
    "# Get the results\n",
    "results_sampler = job.result()"
   ]
  },
  {
   "cell_type": "code",
   "execution_count": 12,
   "id": "8c88f9d0-aa4a-408d-b378-a2d44c119c2f",
   "metadata": {},
   "outputs": [],
   "source": [
    "# Set up the Estimator\n",
    "estimator = Estimator(mode=backend)\n",
    "\n",
    "# Define some observables\n",
    "ZZZ = SparsePauliOp(\"ZZZ\")\n",
    "ZZX = SparsePauliOp(\"ZZX\")\n",
    "ZII = SparsePauliOp(\"ZII\")\n",
    "XXI = SparsePauliOp(\"XXI\")\n",
    "ZZI = SparsePauliOp(\"ZZI\")\n",
    "III = SparsePauliOp(\"III\")\n",
    "observables = [ZZZ, ZZX, ZII, XXI, ZZI, III]\n",
    "\n",
    "# Submit the circuit to Estimator\n",
    "pub = (qc, observables)\n",
    "job = estimator.run(pubs=[pub])\n",
    "\n",
    "# Get the results\n",
    "results_estimator = job.result()"
   ]
  },
  {
   "cell_type": "code",
   "execution_count": 13,
   "id": "c7ad5f54-6a01-4a48-a62c-9e726ea3447d",
   "metadata": {},
   "outputs": [
    {
     "name": "stdout",
     "output_type": "stream",
     "text": [
      "  Outcomes : {'000': 518, '111': 506}\n"
     ]
    },
    {
     "data": {
      "image/png": "[encoded data removed]",
      "text/plain": [
       "<Figure size 640x480 with 1 Axes>"
      ]
     },
     "metadata": {},
     "output_type": "display_data"
    }
   ],
   "source": [
    "counts_list = results_sampler[0].data.meas.get_counts()\n",
    "print(f\"  Outcomes : {counts_list}\")\n",
    "display(plot_histogram(counts_list, title=\"GHZ state\"))"
   ]
  },
  {
   "cell_type": "code",
   "execution_count": 14,
   "id": "68bea7c9-a827-4d3b-8753-d64e0125ba15",
   "metadata": {},
   "outputs": [
    {
     "name": "stdout",
     "output_type": "stream",
     "text": [
      "Expectation values: [('ZZZ', np.float64(-0.0166015625)), ('ZZX', np.float64(-0.0068359375)), ('ZII', np.float64(0.00244140625)), ('XXI', np.float64(-0.04541015625)), ('ZZI', np.float64(1.0)), ('III', np.float64(1.0))]\n"
     ]
    },
    {
     "data": {
      "image/png": "[encoded data removed]",
      "text/plain": [
       "<Figure size 640x480 with 1 Axes>"
      ]
     },
     "metadata": {},
     "output_type": "display_data"
    }
   ],
   "source": [
    "exp_values = results_estimator[0].data.evs\n",
    "observables_list = [\"ZZZ\", \"ZZX\", \"ZII\", \"XXI\", \"ZZI\", \"III\"]\n",
    "print(f\"Expectation values: {list(zip(observables_list, exp_values))}\")\n",
    "\n",
    "# Set up our plot\n",
    "container = plt.bar(observables_list, exp_values, width=0.8)\n",
    "# Label each axis\n",
    "plt.xlabel(\"Observables\")\n",
    "plt.ylabel(\"Values\")\n",
    "plt.show()"
   ]
  },
  {
   "cell_type": "code",
   "execution_count": 15,
   "id": "6f4954ad-c67f-4478-8ed7-6fb030d3ba43",
   "metadata": {},
   "outputs": [
    {
     "name": "stdout",
     "output_type": "stream",
     "text": [
      "We are using the ibm_sherbrooke quantum computer\n"
     ]
    }
   ],
   "source": [
    "# Define the service. This allows you to access IBM QPUs.\n",
    "service = QiskitRuntimeService(name=\"qgss-2025\")\n",
    "\n",
    "# Get a backend\n",
    "backend = service.least_busy(operational=True, simulator=False)\n",
    "print(f\"We are using the {backend.name} quantum computer\")"
   ]
  },
  {
   "cell_type": "code",
   "execution_count": 16,
   "id": "498f3008-3ff1-451e-bbb4-9eac228364b7",
   "metadata": {},
   "outputs": [
    {
     "name": "stdout",
     "output_type": "stream",
     "text": [
      "Original circuit:\n",
      "Depth: 4\n",
      "Gate count: OrderedDict([('measure', 3), ('cx', 2), ('h', 1), ('barrier', 1)])\n",
      "\n",
      "Transpiled circuit:\n",
      "Depth: 8\n",
      "Gate count: OrderedDict([('rz', 6), ('sx', 3), ('measure', 3), ('ecr', 2), ('x', 2), ('barrier', 1)])\n"
     ]
    }
   ],
   "source": [
    "### WRITE YOUR CODE BELOW HERE ###\n",
    "\n",
    "# Step 1. Map\n",
    "# You should have created a GHZ circuit above and assigned with variable 'qc'\n",
    "\n",
    "# Step 2. Optimize\n",
    "from qiskit.transpiler.preset_passmanagers import generate_preset_pass_manager\n",
    "\n",
    "pm = generate_preset_pass_manager(backend=backend, optimization_level=3)\n",
    "qc_transpiled = pm.run(qc)\n",
    "\n",
    "# Optional: Compare original vs transpiled circuit\n",
    "print(\"Original circuit:\")\n",
    "print(f\"Depth: {qc.depth()}\")\n",
    "print(f\"Gate count: {qc.count_ops()}\")\n",
    "\n",
    "print(\"\\nTranspiled circuit:\")\n",
    "print(f\"Depth: {qc_transpiled.depth()}\")\n",
    "print(f\"Gate count: {qc_transpiled.count_ops()}\")"
   ]
  },
  {
   "cell_type": "code",
   "execution_count": 17,
   "id": "0e391414-b58d-4607-8f00-e8d8a9b02f59",
   "metadata": {},
   "outputs": [],
   "source": [
    "# Step 3: Execute\n",
    "from qiskit_ibm_runtime import SamplerV2 as Sampler\n",
    "\n",
    "sampler = Sampler(backend)\n",
    "job = sampler.run([qc_transpiled], shots=1000)"
   ]
  },
  {
   "cell_type": "code",
   "execution_count": 18,
   "id": "b9972b59-54b8-400d-a09a-74fcf1f2537e",
   "metadata": {},
   "outputs": [
    {
     "name": "stdout",
     "output_type": "stream",
     "text": [
      "Outcomes: {'100': 6, '111': 501, '000': 472, '110': 11, '011': 4, '001': 5, '010': 1}\n"
     ]
    },
    {
     "data": {
      "image/png": "[encoded data removed]",
      "text/plain": [
       "<Figure size 640x480 with 1 Axes>"
      ]
     },
     "execution_count": 18,
     "metadata": {},
     "output_type": "execute_result"
    }
   ],
   "source": [
    "# Step 4: Post-process\n",
    "results = job.result()\n",
    "counts_list = results[0].data.meas.get_counts()\n",
    "\n",
    "### YOUR CODE FINISHES HERE ###\n",
    "\n",
    "print(f\"Outcomes: {counts_list}\")\n",
    "plot_histogram(counts_list, title='GHZ state')"
   ]
  },
  {
   "cell_type": "code",
   "execution_count": null,
   "id": "18c6324b-3df3-4410-a529-b1cbb55b535b",
   "metadata": {},
   "outputs": [],
   "source": []
  }
 ],
 "metadata": {
  "kernelspec": {
   "display_name": "Python 3 [QGSS]",
   "language": "python",
   "name": "python3"
  },
  "language_info": {
   "codemirror_mode": {
    "name": "ipython",
    "version": 3
   },
   "file_extension": ".py",
   "mimetype": "text/x-python",
   "name": "python",
   "nbconvert_exporter": "python",
   "pygments_lexer": "ipython3",
   "version": "3.11.9"
  }
 },
 "nbformat": 4,
 "nbformat_minor": 5
}
