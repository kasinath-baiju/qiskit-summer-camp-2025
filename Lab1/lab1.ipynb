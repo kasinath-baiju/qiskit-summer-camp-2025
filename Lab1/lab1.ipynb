{
 "cells": [
  {
   "cell_type": "code",
   "execution_count": 1,
   "id": "7983786b-1681-40fd-8464-7ff075c32ac4",
   "metadata": {},
   "outputs": [
    {
     "name": "stdout",
     "output_type": "stream",
     "text": [
      "Qiskit version: 2.1.1\n",
      "Grader version: 0.22.12\n"
     ]
    }
   ],
   "source": [
    "import qiskit\n",
    "import qc_grader\n",
    "print(f\"Qiskit version: {qiskit.__version__}\")\n",
    "print(f\"Grader version: {qc_grader.__version__}\")"
   ]
  },
  {
   "cell_type": "code",
   "execution_count": 2,
   "id": "ceffb999-b9dd-433e-8726-59a7e412568f",
   "metadata": {},
   "outputs": [
    {
     "data": {
      "text/plain": [
       "{'qgss-2025': {'channel': 'ibm_quantum_platform',\n",
       "  'url': 'https://cloud.ibm.com',\n",
       "  'token': 'TjsUi7FnctBL0cYkFsJAMNHrGJkb4Pj7Dn4Ct71RTUX9',\n",
       "  'instance': 'crn:v1:bluemix:public:quantum-computing:us-east:a/0a47d07759a4490eb699bc3560c10e9b:7e0cbe99-6ea4-4ff0-889e-2db9b7a600e9::',\n",
       "  'verify': True,\n",
       "  'private_endpoint': False}}"
      ]
     },
     "execution_count": 2,
     "metadata": {},
     "output_type": "execute_result"
    }
   ],
   "source": [
    "# Check that the account has been saved properly\n",
    "from qiskit_ibm_runtime import QiskitRuntimeService\n",
    "\n",
    "\n",
    "service = QiskitRuntimeService(name=\"qgss-2025\")\n",
    "service.saved_accounts()"
   ]
  },
  {
   "cell_type": "code",
   "execution_count": 3,
   "id": "cda103e9-47bf-488e-bca5-fb1cb9569937",
   "metadata": {},
   "outputs": [],
   "source": [
    "# Essential libraries\n",
    "import numpy as np\n",
    "import matplotlib.pyplot as plt\n",
    "import ipywidgets as widgets\n",
    "from IPython.display import display\n",
    "from PIL import Image\n",
    "import io\n",
    "\n",
    "from qiskit import QuantumCircuit\n",
    "from qiskit.circuit import Parameter\n",
    "from qiskit.visualization import plot_histogram, plot_distribution\n",
    "from qiskit_ibm_runtime import Options, Session, SamplerV2 as Sampler\n",
    "from qiskit.result import marginal_distribution\n",
    "\n",
    "from qiskit.transpiler import generate_preset_pass_manager\n",
    "from qiskit_ibm_runtime import QiskitRuntimeService\n",
    "from qiskit_aer import AerSimulator\n",
    "\n",
    "from qc_grader.challenges.qgss_2025 import (\n",
    "    grade_lab1_ex1_1, \n",
    "    grade_lab1_ex1_2, \n",
    "    grade_lab1_ex1_3, \n",
    "    grade_lab1_ex1_4, \n",
    "    grade_lab1_ex2, \n",
    "    grade_lab1_ex3,\n",
    "    grade_lab1_ex4,\n",
    "    grade_lab1_ex5,\n",
    "    grade_lab1_ex6\n",
    ")"
   ]
  },
  {
   "cell_type": "markdown",
   "id": "90ee90ae-3b89-43e2-8bb9-092e0ff808d7",
   "metadata": {},
   "source": [
    "# Chapter 1: Superposition, Interference and Measurement"
   ]
  },
  {
   "cell_type": "markdown",
   "id": "24c78f3f-a638-43b3-9b7d-8695fd291cc2",
   "metadata": {},
   "source": [
    "## Exercise 1: Build a quantum circuit for the double-slit experiment"
   ]
  },
  {
   "cell_type": "markdown",
   "id": "4fc8ccba-77a5-4318-8028-d1da90a6bcad",
   "metadata": {},
   "source": [
    "**Exercise 1-1: Make a slit**"
   ]
  },
  {
   "cell_type": "code",
   "execution_count": 4,
   "id": "80a69f7d-cc3e-44b1-b499-3330e2513078",
   "metadata": {},
   "outputs": [
    {
     "name": "stdout",
     "output_type": "stream",
     "text": [
      "Double-Slit Quantum Circuit:\n",
      "            ┌───┐\n",
      "         q: ┤ H ├\n",
      "            └───┘\n",
      "c_screen: 1/═════\n",
      "                 \n",
      "Submitting your answer. Please wait...\n",
      "Congratulations! 🎉 Your answer is correct.\n"
     ]
    }
   ],
   "source": [
    "from qiskit import QuantumCircuit, QuantumRegister, ClassicalRegister\n",
    "\n",
    "# Create quantum and classical registers with specific names as hinted\n",
    "qr = QuantumRegister(1, name='q')\n",
    "cr = ClassicalRegister(1, name='c_screen')\n",
    "\n",
    "# Create the quantum circuit\n",
    "double_slit = QuantumCircuit(qr, cr)\n",
    "\n",
    "# Apply Hadamard gate to create superposition (|0⟩ + |1⟩)/√2\n",
    "# This represents the particle going through both slits simultaneously\n",
    "double_slit.h(qr[0])\n",
    "\n",
    "# Draw the circuit\n",
    "print(\"Double-Slit Quantum Circuit:\")\n",
    "print(double_slit.draw())\n",
    "\n",
    "# Test the circuit\n",
    "grade_lab1_ex1_1(double_slit)"
   ]
  },
  {
   "cell_type": "markdown",
   "id": "b8cd6567-61bc-4ae2-8474-6db09eb53b89",
   "metadata": {},
   "source": [
    "**Exercise 1-2: Make a screen**"
   ]
  },
  {
   "cell_type": "code",
   "execution_count": 5,
   "id": "bb7fbaf4-ccd8-4cae-9c7f-400a326fa480",
   "metadata": {},
   "outputs": [
    {
     "name": "stdout",
     "output_type": "stream",
     "text": [
      "Double-Slit with Screen:\n",
      "            ┌───┐┌───┐┌─┐\n",
      "         q: ┤ H ├┤ H ├┤M├\n",
      "            └───┘└───┘└╥┘\n",
      "c_screen: 1/═══════════╩═\n",
      "                       0 \n"
     ]
    }
   ],
   "source": [
    "double_slit.h(qr[0])\n",
    "\n",
    "# Measure the qubit and store result in c_screen\n",
    "double_slit.measure(qr[0], cr[0])\n",
    "\n",
    "# Display the circuit\n",
    "print(\"Double-Slit with Screen:\")\n",
    "print(double_slit.draw())\n"
   ]
  },
  {
   "cell_type": "code",
   "execution_count": 6,
   "id": "6d047508-1f36-440e-a2ae-ceea7b7978e8",
   "metadata": {},
   "outputs": [
    {
     "name": "stdout",
     "output_type": "stream",
     "text": [
      "Submitting your answer. Please wait...\n",
      "Congratulations! 🎉 Your answer is correct.\n"
     ]
    }
   ],
   "source": [
    "grade_lab1_ex1_2(double_slit)\n"
   ]
  },
  {
   "cell_type": "code",
   "execution_count": 7,
   "id": "19f92cb7-8488-4594-b8b2-4f5039663b1a",
   "metadata": {},
   "outputs": [
    {
     "data": {
      "image/png": "[encoded data removed]",
      "text/plain": [
       "<Figure size 700x500 with 1 Axes>"
      ]
     },
     "execution_count": 7,
     "metadata": {},
     "output_type": "execute_result"
    }
   ],
   "source": [
    "# use simulator\n",
    "backend = AerSimulator()\n",
    "\n",
    "# make quantum circuit compatible to the backend\n",
    "pm = generate_preset_pass_manager(backend = backend, optimization_level=3)\n",
    "qc_isa = pm.run(double_slit)\n",
    "\n",
    "# run and get counts\n",
    "sampler = Sampler(mode=backend)\n",
    "counts = sampler.run([qc_isa], shots = 1000).result()[0].data.c_screen.get_counts()\n",
    "\n",
    "plot_distribution(counts)"
   ]
  },
  {
   "cell_type": "markdown",
   "id": "e7949870-598f-448c-8c69-584c1447b2de",
   "metadata": {},
   "source": [
    "**Exercise 1-3: Make a difference**"
   ]
  },
  {
   "cell_type": "code",
   "execution_count": 8,
   "id": "c2f829f6-ffc4-4fac-83fa-6a5259025245",
   "metadata": {},
   "outputs": [
    {
     "data": {
      "image/png": "[encoded data removed]",
      "text/plain": [
       "<Figure size 545.256x200.667 with 1 Axes>"
      ]
     },
     "execution_count": 8,
     "metadata": {},
     "output_type": "execute_result"
    }
   ],
   "source": [
    "qr = QuantumRegister(1, name='q')\n",
    "cr = ClassicalRegister(1, name='c_screen')\n",
    "\n",
    "double_slit_with_difference = QuantumCircuit(qr, cr)\n",
    "\n",
    "# First Hadamard - creates superposition\n",
    "double_slit_with_difference.h(qr[0])\n",
    "\n",
    "# Add S gate to introduce π/2 phase difference to |1⟩ state\n",
    "double_slit_with_difference.s(qr[0])\n",
    "\n",
    "# Second Hadamard - models the screen interference\n",
    "double_slit_with_difference.h(qr[0])\n",
    "\n",
    "# Measure\n",
    "double_slit_with_difference.measure(qr[0], cr[0])\n",
    "\n",
    "# Display\n",
    "double_slit_with_difference.draw('mpl')"
   ]
  },
  {
   "cell_type": "code",
   "execution_count": 9,
   "id": "47cf05fc-0b59-4ba9-9370-905b29840fd3",
   "metadata": {},
   "outputs": [
    {
     "name": "stdout",
     "output_type": "stream",
     "text": [
      "Submitting your answer. Please wait...\n",
      "Congratulations! 🎉 Your answer is correct.\n"
     ]
    }
   ],
   "source": [
    "grade_lab1_ex1_3(double_slit_with_difference)"
   ]
  },
  {
   "cell_type": "code",
   "execution_count": 10,
   "id": "a1420ad2-bc80-4364-b344-7c454fb2a403",
   "metadata": {},
   "outputs": [
    {
     "data": {
      "image/png": "[encoded data removed]",
      "text/plain": [
       "<Figure size 700x500 with 1 Axes>"
      ]
     },
     "execution_count": 10,
     "metadata": {},
     "output_type": "execute_result"
    }
   ],
   "source": [
    "qc_isa = pm.run(double_slit_with_difference)\n",
    "\n",
    "#run and get counts\n",
    "sampler = Sampler(mode=backend)\n",
    "counts = sampler.run([qc_isa], shots=10000).result()[0].data.c_screen.get_counts()\n",
    "plot_distribution(counts)"
   ]
  },
  {
   "cell_type": "markdown",
   "id": "125382d0-277e-424d-8397-1eecf7854f74",
   "metadata": {},
   "source": [
    "**Exercise 1-4: Beautiful Fringes**"
   ]
  },
  {
   "cell_type": "code",
   "execution_count": 11,
   "id": "4a908179-049e-410a-97f5-df2d39f9bc38",
   "metadata": {},
   "outputs": [
    {
     "data": {
      "image/png": "[encoded data removed]",
      "text/plain": [
       "<Figure size 545.256x200.667 with 1 Axes>"
      ]
     },
     "execution_count": 11,
     "metadata": {},
     "output_type": "execute_result"
    }
   ],
   "source": [
    "φ = Parameter('φ')\n",
    "\n",
    "qr = QuantumRegister(1, name='q')\n",
    "cr = ClassicalRegister(1, name='c_screen')\n",
    "\n",
    "double_slit_fringe = QuantumCircuit(qr, cr)\n",
    "\n",
    "# H-gate to create superposition\n",
    "double_slit_fringe.h(qr[0])\n",
    "\n",
    "# P(φ) gate to apply variable phase difference\n",
    "double_slit_fringe.p(φ, qr[0])\n",
    "\n",
    "# H-gate to create interference pattern\n",
    "double_slit_fringe.h(qr[0])\n",
    "\n",
    "# Measure q and save to c_screen\n",
    "double_slit_fringe.measure(qr[0], cr[0])\n",
    "\n",
    "# Display the circuit\n",
    "double_slit_fringe.draw('mpl')"
   ]
  },
  {
   "cell_type": "code",
   "execution_count": 12,
   "id": "f3745703-2ba7-4a4a-9b6a-5307f8f20708",
   "metadata": {},
   "outputs": [
    {
     "name": "stdout",
     "output_type": "stream",
     "text": [
      "Submitting your answer. Please wait...\n",
      "Congratulations! 🎉 Your answer is correct.\n"
     ]
    }
   ],
   "source": [
    "grade_lab1_ex1_4(double_slit_fringe)"
   ]
  },
  {
   "cell_type": "code",
   "execution_count": 13,
   "id": "c1d602b9-e9f9-4dcb-b6de-79c854f2eab0",
   "metadata": {},
   "outputs": [
    {
     "data": {
      "image/png": "[encoded data removed]",
      "text/plain": [
       "<Figure size 1000x200 with 2 Axes>"
      ]
     },
     "metadata": {},
     "output_type": "display_data"
    }
   ],
   "source": [
    "φ_lst = np.linspace(-3*np.pi, 3*np.pi, 100)\n",
    "qc_isa = pm.run(double_slit_fringe)\n",
    "\n",
    "φ_hit = []\n",
    "dist = sampler.run([(qc_isa, φ_lst)], shots=1000).result()[0].data.c_screen\n",
    "\n",
    "for i  in range(len(φ_lst)):\n",
    "    result = dist[i].get_counts()\n",
    "    if '0' in result:\n",
    "        φ_hit.append(result['0']/1000)\n",
    "    else:\n",
    "        φ_hit.append(0)\n",
    "\n",
    "#plot heat map\n",
    "φ_hit_2d = np.array(φ_hit).reshape(1, -1)\n",
    "\n",
    "plt.figure(figsize=(10, 2))\n",
    "plt.imshow(φ_hit_2d, cmap='gray', aspect='auto', extent=[-3*np.pi, 3*np.pi, 0, 0.1])\n",
    "\n",
    "plt.xlabel('φ (Phase difference)', fontsize=14)\n",
    "plt.colorbar(label='prob')\n",
    "plt.xticks(ticks=[-3*np.pi, -2*np.pi, -np.pi, 0, np.pi, 2*np.pi, 3*np.pi],\n",
    "           labels=['-3π', '-2π', '-π', '0', 'π', '2π', '3π'])\n",
    "plt.yticks([])  \n",
    "plt.show()"
   ]
  },
  {
   "cell_type": "markdown",
   "id": "10076d18-e87c-4a5c-ba70-95c180585bf8",
   "metadata": {},
   "source": [
    "## Exercise 2: Is the cat happy or grumpy?"
   ]
  },
  {
   "cell_type": "code",
   "execution_count": 14,
   "id": "8c4a6e7d-ed67-4a63-904f-24b456128834",
   "metadata": {},
   "outputs": [],
   "source": [
    "def schrodingers_cat_experiment_theta(theta):\n",
    "    qc = QuantumCircuit(1)\n",
    "    \n",
    "    #your code start here\n",
    "    # Apply RX gate with the given theta parameter\n",
    "    qc.rx(theta, 0)\n",
    "    #end of your code\n",
    "    \n",
    "    qc.measure_all()\n",
    "    \n",
    "    backend = AerSimulator()\n",
    "    pm = generate_preset_pass_manager(backend=backend, optimization_level=3)\n",
    "    qc_isa = pm.run(qc)\n",
    "    \n",
    "    # Circuit compile and run, shot = 1\n",
    "    sampler = Sampler(mode=backend)\n",
    "    counts = sampler.run([qc_isa], shots = 1).result()[0].data.meas.get_counts()\n",
    "    \n",
    "    measured_state = list(counts.keys())[0] if counts else '0'  # bring measured result\n",
    "    \n",
    "    if measured_state == '0':\n",
    "        cat_happy = True\n",
    "    else:\n",
    "        cat_happy = False\n",
    "    \n",
    "    return cat_happy, qc"
   ]
  },
  {
   "cell_type": "code",
   "execution_count": 15,
   "id": "9320de5e-51e4-4d04-bc91-631e4a23b8d6",
   "metadata": {},
   "outputs": [
    {
     "name": "stdout",
     "output_type": "stream",
     "text": [
      "Submitting your answer. Please wait...\n",
      "Congratulations! 🎉 Your answer is correct.\n"
     ]
    }
   ],
   "source": [
    "grade_lab1_ex2(schrodingers_cat_experiment_theta)"
   ]
  },
  {
   "cell_type": "code",
   "execution_count": 19,
   "id": "d0593b8e-775f-4f5a-b2eb-bdbaa026aaba",
   "metadata": {},
   "outputs": [
    {
     "data": {
      "application/vnd.jupyter.widget-view+json": {
       "model_id": "7f7b24c61e184946903a586c2d56897e",
       "version_major": 2,
       "version_minor": 0
      },
      "text/plain": [
       "FloatSlider(value=0.0, description='θ', max=6.283185307179586, step=0.01)"
      ]
     },
     "metadata": {},
     "output_type": "display_data"
    },
    {
     "data": {
      "application/vnd.jupyter.widget-view+json": {
       "model_id": "9d20e408e51341888b64fa94ba9814ca",
       "version_major": 2,
       "version_minor": 0
      },
      "text/plain": [
       "Button(button_style='success', description='Open the Box', style=ButtonStyle())"
      ]
     },
     "metadata": {},
     "output_type": "display_data"
    },
    {
     "data": {
      "application/vnd.jupyter.widget-view+json": {
       "model_id": "25256ee773a047d6aba1620384eb329d",
       "version_major": 2,
       "version_minor": 0
      },
      "text/plain": [
       "Output()"
      ]
     },
     "metadata": {},
     "output_type": "display_data"
    }
   ],
   "source": [
    "from PIL import Image, ImageDraw\n",
    "import numpy as np\n",
    "\n",
    "# Create simple placeholder images\n",
    "def create_cat_image(happy=True, size=(400, 400)):\n",
    "    img = Image.new('RGB', size, color='lightblue' if happy else 'lightcoral')\n",
    "    draw = ImageDraw.Draw(img)\n",
    "    \n",
    "    # Draw simple cat face\n",
    "    face_color = 'yellow' if happy else 'gray'\n",
    "    draw.ellipse([100, 100, 300, 300], fill=face_color, outline='black', width=3)\n",
    "    \n",
    "    # Eyes\n",
    "    eye_y = 150\n",
    "    if happy:\n",
    "        # Happy eyes (^_^)\n",
    "        draw.arc([130, eye_y, 160, eye_y+20], 0, 180, fill='black', width=3)\n",
    "        draw.arc([240, eye_y, 270, eye_y+20], 0, 180, fill='black', width=3)\n",
    "    else:\n",
    "        # Angry eyes (>_<)\n",
    "        draw.line([130, eye_y, 160, eye_y+20], fill='black', width=3)\n",
    "        draw.line([160, eye_y+20, 130, eye_y], fill='black', width=3)\n",
    "        draw.line([240, eye_y, 270, eye_y+20], fill='black', width=3)\n",
    "        draw.line([270, eye_y+20, 240, eye_y], fill='black', width=3)\n",
    "    \n",
    "    # Mouth\n",
    "    mouth_y = 220\n",
    "    if happy:\n",
    "        # Happy mouth (smile)\n",
    "        draw.arc([170, mouth_y, 230, mouth_y+40], 0, 180, fill='black', width=3)\n",
    "    else:\n",
    "        # Sad mouth (frown) - fixed coordinates\n",
    "        draw.arc([170, mouth_y-20, 230, mouth_y+20], 180, 360, fill='black', width=3)\n",
    "    \n",
    "    return img\n",
    "\n",
    "# Create the images\n",
    "happy_img = create_cat_image(happy=True)\n",
    "grumpy_img = create_cat_image(happy=False)\n",
    "\n",
    "# Rest of your code\n",
    "out = widgets.Output()\n",
    "\n",
    "slider = widgets.FloatSlider(\n",
    "    value=0,\n",
    "    min=0,\n",
    "    max=2*np.pi,\n",
    "    step=0.01,\n",
    "    description='θ',\n",
    "    continuous_update=True\n",
    ")\n",
    "\n",
    "button = widgets.Button(\n",
    "    description='Open the Box',\n",
    "    button_style='success'\n",
    ")\n",
    "    \n",
    "def on_button_click(b):\n",
    "    with out:\n",
    "        out.clear_output(wait=True)  # clean output\n",
    "\n",
    "        result = schrodingers_cat_experiment_theta(slider.value)[0]\n",
    "\n",
    "        if result==True:\n",
    "            img = happy_img\n",
    "            txt = \"happy\"\n",
    "        else:\n",
    "            img = grumpy_img\n",
    "            txt = \"grumpy\"\n",
    "\n",
    "        new_size = (400, 400)\n",
    "        resized_img = img.resize(new_size)\n",
    "        \n",
    "        buf = io.BytesIO()\n",
    "        resized_img.save(buf, format='PNG')\n",
    "        buf.seek(0)\n",
    "        probability = int(np.cos(slider.value/2)**2 * 100)\n",
    "\n",
    "        display(f\"The probability of cat is happy: {probability}%\")\n",
    "        display(f\"The observed cat is : {txt}\")\n",
    "        display(widgets.Image(value=buf.read(), format='png'))\n",
    "\n",
    "button.on_click(on_button_click)\n",
    "\n",
    "display(slider, button, out)"
   ]
  },
  {
   "cell_type": "markdown",
   "id": "40f39a66-b054-46a7-b508-43af5f7ca312",
   "metadata": {},
   "source": [
    "## Exercise 3: Double-slit with a path detector"
   ]
  },
  {
   "cell_type": "code",
   "execution_count": 26,
   "id": "9d688178-03aa-42c9-895b-67749eefc436",
   "metadata": {},
   "outputs": [
    {
     "data": {
      "image/png": "[encoded data removed]",
      "text/plain": [
       "<Figure size 653.915x284.278 with 1 Axes>"
      ]
     },
     "execution_count": 26,
     "metadata": {},
     "output_type": "execute_result"
    }
   ],
   "source": [
    "# 2. Setup the quantum circuit with its registers\n",
    "qr = QuantumRegister(1, name='q')\n",
    "cr1 = ClassicalRegister(1, name='c_detector')\n",
    "cr2 = ClassicalRegister(1, name='c_screen')\n",
    "double_slit_with_detector = QuantumCircuit(qr, cr1, cr2)\n",
    "\n",
    "# 3. Define the parameter for the phase gate\n",
    "Φ = Parameter('Φ')\n",
    "\n",
    "# 4. Construct the circuit logic\n",
    "# Apply the first H-gate to create a superposition.\n",
    "double_slit_with_detector.h(qr[0])\n",
    "\n",
    "# \"Which-path\" detector: Placed immediately after the first H-gate.\n",
    "double_slit_with_detector.measure(qr[0], cr1[0])\n",
    "\n",
    "# Apply a phase shift to the now-collapsed path.\n",
    "double_slit_with_detector.p(Φ, qr[0])\n",
    "\n",
    "# Apply the second H-gate.\n",
    "double_slit_with_detector.h(qr[0])\n",
    "\n",
    "# Perform the final measurement on the \"screen\".\n",
    "double_slit_with_detector.measure(qr[0], cr2[0])\n",
    "\n",
    "# 5. Draw the final circuit to visualize it\n",
    "double_slit_with_detector.draw('mpl')"
   ]
  },
  {
   "cell_type": "code",
   "execution_count": 27,
   "id": "b4953dc3-e6e0-4914-aff2-cd000364e466",
   "metadata": {},
   "outputs": [
    {
     "name": "stdout",
     "output_type": "stream",
     "text": [
      "Submitting your answer. Please wait...\n",
      "Congratulations! 🎉 Your answer is correct.\n"
     ]
    }
   ],
   "source": [
    "grade_lab1_ex3(double_slit_with_detector)"
   ]
  },
  {
   "cell_type": "code",
   "execution_count": 28,
   "id": "5b96f847-7ba9-49cb-92dd-ff2724f70120",
   "metadata": {},
   "outputs": [
    {
     "data": {
      "image/png": "[encoded data removed]",
      "text/plain": [
       "<Figure size 1000x200 with 2 Axes>"
      ]
     },
     "metadata": {},
     "output_type": "display_data"
    }
   ],
   "source": [
    "φ_lst = np.linspace(-3 * np.pi, 3 * np.pi, 100)\n",
    "qc_isa = pm.run(double_slit_with_detector)\n",
    "\n",
    "φ_hit = []\n",
    "dist = sampler.run([(qc_isa, φ_lst)], shots=1000).result()[0].data.c_screen\n",
    "\n",
    "for i  in range(len(φ_lst)):\n",
    "    result = dist[i].get_counts()\n",
    "    if '0' in result:\n",
    "        φ_hit.append(result['0']/1000)\n",
    "    else:\n",
    "        φ_hit.append(0)\n",
    "\n",
    "φ_hit_2d = np.array(φ_hit).reshape(1, -1)\n",
    "\n",
    "plt.figure(figsize=(10, 2))\n",
    "plt.imshow(φ_hit_2d, cmap='gray', aspect='auto', extent=[-3*np.pi, 3*np.pi, 0, 0.1], vmin=0, vmax=1)\n",
    "\n",
    "plt.xlabel('φ (Phase difference)', fontsize=14)\n",
    "plt.colorbar(label='prob')\n",
    "plt.xticks(ticks=[-3 * np.pi, -2 * np.pi, -np.pi, 0, np.pi, 2 * np.pi, 3 * np.pi],\n",
    "           labels=['-3π', '-2π', '-π', '0', 'π', '2π', '3π'])\n",
    "plt.yticks([])  \n",
    "plt.show()"
   ]
  },
  {
   "cell_type": "markdown",
   "id": "e3c275d1-565e-4449-adf8-594f8b1ca266",
   "metadata": {},
   "source": [
    "## Exercise 4: Quantum Circuit for CHSH Game"
   ]
  },
  {
   "cell_type": "code",
   "execution_count": 29,
   "id": "c07fe404-192d-4d11-b5f7-0ebff2dbd1ce",
   "metadata": {},
   "outputs": [],
   "source": [
    "def create_chsh_circuit(x, y):\n",
    "    \"\"\"Builds a Qiskit circuit for Alice & Bob's quantum strategy.\"\"\"\n",
    "    qc = QuantumCircuit(2, 2, name=f'CHSH_{x}{y}')\n",
    "\n",
    "    # --- TODO : Task 1 ---\n",
    "    # Implement the gates to create the Bell state |Φ+> = (|00> + |11>)/sqrt(2).\n",
    "    qc.h(0)\n",
    "    qc.cx(0, 1)\n",
    "\n",
    "    # --- End of TODO ---\n",
    "    qc.barrier()\n",
    "\n",
    "    # Step 2a: Alice's measurement basis (X if x=1, Z if x=0)\n",
    "    if x == 1:\n",
    "        qc.h(0) # H for X-basis measurement\n",
    "\n",
    "    ## --- TODO: Task 2 ---\n",
    "    # Step 2b: Bob's measurement basis\n",
    "    # Optimal angles are +pi/4 for y=0 and -pi/4 for y=1.\n",
    "    # To measure in a rotated basis theta, we apply Ry(-theta) to the qubit.\n",
    "    if y == 0:\n",
    "        qc.ry(-np.pi / 4, 1)\n",
    "    else: # y == 1\n",
    "        qc.ry(np.pi / 4, 1)\n",
    "\n",
    "    # --- End of TODO ---\n",
    "    qc.barrier()\n",
    "\n",
    "    # Step 3: Measure\n",
    "    qc.measure([0, 1], [0, 1]) # q0 to c0 (Alice), q1 to c1 (Bob) -> 'ba' format\n",
    "\n",
    "    return qc\n",
    "\n",
    "# Example of how to use the function and draw the circuit for x=1, y=0\n",
    "# example_circuit = create_chsh_circuit(1, 0)\n",
    "# example_circuit.draw('mpl')"
   ]
  },
  {
   "cell_type": "code",
   "execution_count": 30,
   "id": "14eaed26-991d-4848-b289-46509ab4ecf8",
   "metadata": {},
   "outputs": [
    {
     "name": "stdout",
     "output_type": "stream",
     "text": [
      "Submitting your answer. Please wait...\n",
      "Congratulations! 🎉 Your answer is correct.\n"
     ]
    }
   ],
   "source": [
    "grade_lab1_ex4(create_chsh_circuit)"
   ]
  },
  {
   "cell_type": "code",
   "execution_count": 31,
   "id": "938e7cfb-4856-43db-abb2-b3c527703470",
   "metadata": {},
   "outputs": [
    {
     "name": "stdout",
     "output_type": "stream",
     "text": [
      "Quantum circuit for inputs x=1, y=1 (Check your Exercises 1 & 2 implementation):\n"
     ]
    },
    {
     "data": {
      "image/png": "[encoded data removed]",
      "text/plain": [
       "<Figure size 705.35x284.278 with 1 Axes>"
      ]
     },
     "metadata": {},
     "output_type": "display_data"
    }
   ],
   "source": [
    "circuits = []\n",
    "input_pairs = []\n",
    "for x_in in [0, 1]:\n",
    "    for y_in in [0, 1]:\n",
    "        input_pairs.append((x_in, y_in))\n",
    "        circuits.append(create_chsh_circuit(x_in, y_in))\n",
    "\n",
    "print(\"Quantum circuit for inputs x=1, y=1 (Check your Exercises 1 & 2 implementation):\")\n",
    "if len(circuits) == 4:\n",
    "    display(circuits[3].draw('mpl')) # (x,y) = (1,1)\n",
    "else:\n",
    "    print(\"Circuits not generated. Run previous cell after completing Exercises 1 & 2.\")"
   ]
  },
  {
   "cell_type": "code",
   "execution_count": 32,
   "id": "d3a9e77b-6579-4186-84b2-c234fd9398b1",
   "metadata": {},
   "outputs": [
    {
     "name": "stdout",
     "output_type": "stream",
     "text": [
      "Preparing circuits for the simulator...\n",
      "\n",
      "--- Simulation Results (Counts) ---\n",
      "Inputs (x=0, y=0):\n",
      "  Outcomes (ba): {'00': 444, '01': 71, '10': 79, '11': 430}\n",
      "Inputs (x=0, y=1):\n",
      "  Outcomes (ba): {'00': 430, '01': 60, '10': 65, '11': 469}\n",
      "Inputs (x=1, y=0):\n",
      "  Outcomes (ba): {'00': 451, '01': 68, '10': 76, '11': 429}\n",
      "Inputs (x=1, y=1):\n",
      "  Outcomes (ba): {'00': 58, '01': 432, '10': 460, '11': 74}\n",
      "\n",
      "Plotting results...\n"
     ]
    },
    {
     "data": {
      "image/png": "[encoded data removed]",
      "text/plain": [
       "<Figure size 640x480 with 1 Axes>"
      ]
     },
     "metadata": {},
     "output_type": "display_data"
    }
   ],
   "source": [
    "# AerSimulator (if not already defined)\n",
    "# backend = AerSimulator()\n",
    "# Pass manager (if not already defined)\n",
    "# pm = generate_preset_pass_manager(backend=backend, optimization_level=1)\n",
    "\n",
    "SHOTS = 1024\n",
    "\n",
    "print(\"Preparing circuits for the simulator...\")\n",
    "isa_qc_chsh = pm.run(circuits)\n",
    "\n",
    "sampler_chsh = Sampler(mode=backend) # SamplerV2\n",
    "job_chsh = sampler_chsh.run(isa_qc_chsh, shots=SHOTS)\n",
    "results_chsh = job_chsh.result()\n",
    "\n",
    "# SamplerV2: results_chsh[i].data.c.get_counts() where 'c' is the default name of classical register\n",
    "counts_list = [results_chsh[i].data.c.get_counts() for i in range(len(circuits))]\n",
    "\n",
    "print(\"\\n--- Simulation Results (Counts) ---\")\n",
    "for i, (x, y) in enumerate(input_pairs):\n",
    "    print(f\"Inputs (x={x}, y={y}):\")\n",
    "    sorted_counts = dict(sorted(counts_list[i].items()))\n",
    "    print(f\"  Outcomes (ba): {sorted_counts}\")\n",
    "\n",
    "print(\"\\nPlotting results...\")\n",
    "display(plot_histogram(counts_list,\n",
    "                       legend=[f'(x={x}, y={y})' for x, y in input_pairs],\n",
    "                       title='CHSH Game Outcomes (ba format)'))"
   ]
  },
  {
   "cell_type": "markdown",
   "id": "836948ea-0464-4121-bace-49f3088bcce1",
   "metadata": {},
   "source": [
    "## Exercise 5: Analyze Circuit for CHSH Game"
   ]
  },
  {
   "cell_type": "code",
   "execution_count": 35,
   "id": "d52407d8-35ca-4cba-a4dc-0cd07953ff9a",
   "metadata": {},
   "outputs": [
    {
     "name": "stdout",
     "output_type": "stream",
     "text": [
      "--- Calculating Win Probabilities ---\n",
      "Inputs (x=0, y=0): Target (a XOR b) = 0. Win Probability = 0.8535\n",
      "Inputs (x=0, y=1): Target (a XOR b) = 0. Win Probability = 0.8779\n",
      "Inputs (x=1, y=0): Target (a XOR b) = 0. Win Probability = 0.8594\n",
      "Inputs (x=1, y=1): Target (a XOR b) = 1. Win Probability = 0.8711\n",
      "\n",
      "--- Overall Performance ---\n",
      "Experimental Average Win Probability: 0.8655\n",
      "Theoretical Quantum Win Probability: 0.8536\n",
      "Classical Limit Win Probability:        0.7500\n",
      "\n",
      "Success! 🎉 Your result (0.8655) clearly beats the classical 75% limit!\n",
      "It's likely close to the theoretical quantum prediction of 0.8536.\n"
     ]
    }
   ],
   "source": [
    "# This code assumes that 'input_pairs', 'counts_list', 'SHOTS',\n",
    "# and the 'numpy' library (as np) are already defined and available.\n",
    "\n",
    "# Initialize dictionary to store results\n",
    "win_probabilities = {}\n",
    "print(\"--- Calculating Win Probabilities ---\")\n",
    "\n",
    "# Loop through each input pair (x,y) and its corresponding results\n",
    "for i, (x, y) in enumerate(input_pairs):\n",
    "    counts = counts_list[i]\n",
    "\n",
    "    # Task 1: Determine the winning condition (a XOR b = x AND y)\n",
    "    target_xor_result = x & y\n",
    "\n",
    "    wins_for_this_case = 0\n",
    "    \n",
    "    # Task 2: Count the number of shots that satisfy the winning condition\n",
    "    for outcome, num_shots in counts.items():\n",
    "        # The 'ba' format means b is the first char, a is the second\n",
    "        b_val = int(outcome[0])\n",
    "        a_val = int(outcome[1])\n",
    "\n",
    "        # If the XOR of outputs matches the target, count it as a win\n",
    "        if (a_val ^ b_val) == target_xor_result:\n",
    "            wins_for_this_case += num_shots\n",
    "            \n",
    "    # Calculate and store the win probability for this case\n",
    "    prob = wins_for_this_case / SHOTS if SHOTS > 0 else 0\n",
    "    win_probabilities[(x, y)] = prob\n",
    "    print(f\"Inputs (x={x}, y={y}): Target (a XOR b) = {target_xor_result}. Win Probability = {prob:.4f}\")\n",
    "\n",
    "# --- This is the part that defines avg_win_prob ---\n",
    "\n",
    "# Calculate the final average win probability and compare to theoretical limits\n",
    "avg_win_prob = sum(win_probabilities.values()) / 4.0\n",
    "P_win_quantum_theory = np.cos(np.pi / 8)**2\n",
    "P_win_classical_limit = 0.75\n",
    "\n",
    "# Print the summary of results\n",
    "print(f\"\\n--- Overall Performance ---\")\n",
    "print(f\"Experimental Average Win Probability: {avg_win_prob:.4f}\")\n",
    "print(f\"Theoretical Quantum Win Probability: {P_win_quantum_theory:.4f}\")\n",
    "print(f\"Classical Limit Win Probability:        {P_win_classical_limit:.4f}\")\n",
    "\n",
    "# Final check to see if the experiment was successful\n",
    "if avg_win_prob > P_win_classical_limit + 0.01:\n",
    "    print(f\"\\nSuccess! 🎉 Your result ({avg_win_prob:.4f}) clearly beats the classical 75% limit!\")\n",
    "    print(f\"It's likely close to the theoretical quantum prediction of {P_win_quantum_theory:.4f}.\")\n",
    "elif avg_win_prob > P_win_classical_limit - 0.02:\n",
    "    print(f\"\\nClose, but no cigar? Your result ({avg_win_prob:.4f}) is around the classical limit ({P_win_classical_limit:.4f}).\")\n",
    "    print(\"Check your solutions for Exercises 1-4 carefully, especially the win counting logic in Ex 4.\")\n",
    "else:\n",
    "    print(f\"\\nHmmm, the result ({avg_win_prob:.4f}) is unexpectedly low, even below the classical limit.\")\n",
    "    print(\"There might be an error in Exercises 1-4. Please review your circuit and analysis code.\")"
   ]
  },
  {
   "cell_type": "code",
   "execution_count": 36,
   "id": "22f7aac1-a10a-40e1-b027-5f335d975288",
   "metadata": {},
   "outputs": [
    {
     "name": "stdout",
     "output_type": "stream",
     "text": [
      "Submitting your answer. Please wait...\n",
      "Congratulations! 🎉 Your answer is correct.\n"
     ]
    }
   ],
   "source": [
    "grade_lab1_ex5(counts_list, avg_win_prob)"
   ]
  },
  {
   "cell_type": "markdown",
   "id": "b868822a-8ed0-42d1-923e-efad98362058",
   "metadata": {},
   "source": [
    "## Exercise 6: Quantum Teleportation"
   ]
  },
  {
   "cell_type": "code",
   "execution_count": 37,
   "id": "edcebf45-765a-4d18-b74d-50a977620b4e",
   "metadata": {},
   "outputs": [
    {
     "name": "stdout",
     "output_type": "stream",
     "text": [
      "Full Teleportation Circuit (Exercises 1, 2, 3 Complete):\n"
     ]
    },
    {
     "data": {
      "image/png": "[encoded data removed]",
      "text/plain": [
       "<Figure size 1436.13x367.889 with 1 Axes>"
      ]
     },
     "metadata": {},
     "output_type": "display_data"
    },
    {
     "name": "stdout",
     "output_type": "stream",
     "text": [
      "\n",
      "Circuit Summary:\n",
      "           ┌───┐ ░            ░      ┌───┐ ░ ┌─┐    ░                       »\n",
      "      q_0: ┤ H ├─░────────────░───■──┤ H ├─░─┤M├────░───────────────────────»\n",
      "           └───┘ ░ ┌───┐      ░ ┌─┴─┐└───┘ ░ └╥┘┌─┐ ░                       »\n",
      "      q_1: ──────░─┤ H ├──■───░─┤ X ├──────░──╫─┤M├─░───────────────────────»\n",
      "                 ░ └───┘┌─┴─┐ ░ └───┘      ░  ║ └╥┘ ░      ┌──────     ┌───┐»\n",
      "      q_2: ──────░──────┤ X ├─░────────────░──╫──╫──░──────┤ If-0  ────┤ X ├»\n",
      "                 ░      └───┘ ░            ░  ║  ║  ░      └──╥───     └───┘»\n",
      "                                              ║  ║    ┌───────╨───────┐     »\n",
      "c_alice: 2/═══════════════════════════════════╩══╩════╡ c_alice_1=0x1 ╞═════»\n",
      "                                              0  1    └───────────────┘     »\n",
      "«                                                     \n",
      "«      q_0: ──────────────────────────────────────────\n",
      "«                                                     \n",
      "«      q_1: ──────────────────────────────────────────\n",
      "«            ───────┐      ┌──────     ┌───┐ ───────┐ \n",
      "«      q_2:   End-0 ├──────┤ If-0  ────┤ Z ├  End-0 ├─\n",
      "«            ───────┘      └──╥───     └───┘ ───────┘ \n",
      "«                     ┌───────╨───────┐               \n",
      "«c_alice: 2/══════════╡ c_alice_0=0x1 ╞═══════════════\n",
      "«                     └───────────────┘               \n",
      "\n",
      "Circuit Statistics:\n",
      "Circuit depth: 8\n",
      "Number of qubits: 3\n",
      "Number of classical bits: 2\n",
      "Gate count: OrderedDict([('barrier', 4), ('h', 3), ('cx', 2), ('measure', 2), ('if_else', 2)])\n",
      "\n",
      "==================================================\n",
      "Verification Circuit (without conditional gates for statevector sim):\n",
      "Verification circuit (for statevector analysis):\n"
     ]
    },
    {
     "data": {
      "image/png": "[encoded data removed]",
      "text/plain": [
       "<Figure size 789.163x284.278 with 1 Axes>"
      ]
     },
     "metadata": {},
     "output_type": "display_data"
    }
   ],
   "source": [
    "# Define quantum and classical registers\n",
    "qr_tele = QuantumRegister(3, name='q')\n",
    "cr_alice_tele = ClassicalRegister(2, name='c_alice') # For Alice's measurements\n",
    "\n",
    "# For verification with statevector, we don't measure Bob's final qubit in this circuit.\n",
    "# If we were to run on hardware and verify by counts, we'd add a classical bit for Bob.\n",
    "teleport_qc = QuantumCircuit(qr_tele, cr_alice_tele, name='Teleportation')\n",
    "\n",
    "# Prepare Alice's message state |ψ> = |+> on q0\n",
    "teleport_qc.h(qr_tele[0])\n",
    "teleport_qc.barrier()\n",
    "\n",
    "# ---- TASK 1 SOLUTION ---\n",
    "# Step 1: Create Bell pair between q1 (Alice) and q2 (Bob)\n",
    "# Create entangled Bell pair |00⟩ + |11⟩ between q1 and q2\n",
    "teleport_qc.h(qr_tele[1])        # Put q1 in superposition\n",
    "teleport_qc.cx(qr_tele[1], qr_tele[2])  # Entangle q1 and q2\n",
    "# --- End of TASK 1 --\n",
    "\n",
    "teleport_qc.barrier()\n",
    "\n",
    "# ---- TASK 2 SOLUTION ---\n",
    "# Step 2: Alice's Bell Measurement (gates part)\n",
    "# Alice performs Bell measurement on q0 (message) and q1 (her half of entangled pair)\n",
    "teleport_qc.cx(qr_tele[0], qr_tele[1])  # CNOT with q0 as control, q1 as target\n",
    "teleport_qc.h(qr_tele[0])               # Hadamard on q0\n",
    "# --- End of TASK 2 --\n",
    "\n",
    "teleport_qc.barrier()\n",
    "\n",
    "# Alice measures her qubits q0 and q1\n",
    "teleport_qc.measure(qr_tele[0], cr_alice_tele[0]) # q0 -> c0\n",
    "teleport_qc.measure(qr_tele[1], cr_alice_tele[1]) # q1 -> c1\n",
    "teleport_qc.barrier()\n",
    "\n",
    "# ---- TASK 3 SOLUTION ---\n",
    "# Step 3: Bob's Conditional Corrections on q2\n",
    "# Using the modern Qiskit 1.0+ syntax with if_test context manager\n",
    "# Bob applies corrections based on Alice's measurement results:\n",
    "# - If c_alice[1] = 1: apply X gate (bit flip)\n",
    "# - If c_alice[0] = 1: apply Z gate (phase flip)\n",
    "\n",
    "# Conditional X gate based on Alice's measurement of q1\n",
    "with teleport_qc.if_test((cr_alice_tele[1], 1)):\n",
    "    teleport_qc.x(qr_tele[2])\n",
    "\n",
    "# Conditional Z gate based on Alice's measurement of q0  \n",
    "with teleport_qc.if_test((cr_alice_tele[0], 1)):\n",
    "    teleport_qc.z(qr_tele[2])\n",
    "\n",
    "# --- End of TASK 3 --\n",
    "\n",
    "print(\"Full Teleportation Circuit (Exercises 1, 2, 3 Complete):\")\n",
    "display(teleport_qc.draw('mpl'))\n",
    "\n",
    "# Optional: Print the circuit as text for verification\n",
    "print(\"\\nCircuit Summary:\")\n",
    "print(teleport_qc)\n",
    "\n",
    "# Optional: Show the circuit depth and gate count\n",
    "print(f\"\\nCircuit Statistics:\")\n",
    "print(f\"Circuit depth: {teleport_qc.depth()}\")\n",
    "print(f\"Number of qubits: {teleport_qc.num_qubits}\")\n",
    "print(f\"Number of classical bits: {teleport_qc.num_clbits}\")\n",
    "print(f\"Gate count: {teleport_qc.count_ops()}\")\n",
    "\n",
    "# Optional: Create a simplified verification circuit without conditional gates\n",
    "# for statevector simulation\n",
    "print(\"\\n\" + \"=\"*50)\n",
    "print(\"Verification Circuit (without conditional gates for statevector sim):\")\n",
    "\n",
    "# Create a separate circuit for statevector verification\n",
    "verify_qc = QuantumCircuit(3, name='Teleportation_Verify')\n",
    "\n",
    "# Prepare Alice's message state |+> on q0\n",
    "verify_qc.h(0)\n",
    "verify_qc.barrier()\n",
    "\n",
    "# Create Bell pair between q1 and q2\n",
    "verify_qc.h(1)\n",
    "verify_qc.cx(1, 2)\n",
    "verify_qc.barrier()\n",
    "\n",
    "# Alice's Bell measurement gates\n",
    "verify_qc.cx(0, 1)\n",
    "verify_qc.h(0)\n",
    "verify_qc.barrier()\n",
    "\n",
    "# For verification, we can show what Bob's qubit should be\n",
    "# without the conditional operations\n",
    "print(\"Verification circuit (for statevector analysis):\")\n",
    "display(verify_qc.draw('mpl'))"
   ]
  },
  {
   "cell_type": "code",
   "execution_count": 38,
   "id": "5aeaa45a-2ba0-4fd0-95bf-3eb8d9ed0e3f",
   "metadata": {},
   "outputs": [
    {
     "name": "stdout",
     "output_type": "stream",
     "text": [
      "Submitting your answer. Please wait...\n",
      "Congratulations! 🎉 Your answer is correct.\n"
     ]
    }
   ],
   "source": [
    "grade_lab1_ex6(teleport_qc)"
   ]
  },
  {
   "cell_type": "markdown",
   "id": "f7a925bd-8df7-4520-be14-0c247233caa8",
   "metadata": {},
   "source": [
    "## Exercise 7 - No Grading: Analyze result of Quantum Teleportation"
   ]
  },
  {
   "cell_type": "code",
   "execution_count": 39,
   "id": "aaddfc9c-782e-43bc-9f4a-cedc04c17a09",
   "metadata": {},
   "outputs": [
    {
     "name": "stdout",
     "output_type": "stream",
     "text": [
      "Using statevector simulator...\n",
      "Running statevector simulation...\n",
      "Simulation successful.\n",
      "Statevector retrieved successfully.\n",
      "\n",
      "Visualizing final qubit states (q2 should match initial q0 state |+>):\n"
     ]
    },
    {
     "data": {
      "text/plain": [
       "'TODO'"
      ]
     },
     "metadata": {},
     "output_type": "display_data"
    }
   ],
   "source": [
    "%matplotlib inline\n",
    "\n",
    "# Use Statevector Simulator\n",
    "print(\"Using statevector simulator...\")\n",
    "sv_simulator = AerSimulator(method='statevector') # Explicitly set method for clarity\n",
    "teleport_qc_sv = teleport_qc.copy() # Work with a copy for statevector simulation\n",
    "teleport_qc_sv.save_statevector() # Save statevector at the end\n",
    "\n",
    "print(\"Running statevector simulation...\")\n",
    "job_sv = sv_simulator.run(teleport_qc_sv) # shots=1 is default for statevector\n",
    "result_sv = job_sv.result()\n",
    "\n",
    "if result_sv.success:\n",
    "    print(\"Simulation successful.\")\n",
    "    final_statevector = result_sv.get_statevector()\n",
    "    print(\"Statevector retrieved successfully.\")\n",
    "    print(\"\\nVisualizing final qubit states (q2 should match initial q0 state |+>):\")\n",
    "    # q0 was |+> (points along +X). After teleportation, q2 should be |+>.\n",
    "    # q0 and q1 states are after Alice's measurement, so they'll be collapsed.\n",
    "    \n",
    "    display(\"TODO\") #TODO, use plot_bloch_multivector to plot final_state\n",
    "        \n",
    "else:\n",
    "    print(f\"Statevector simulation failed! Status: {result_sv.status}\")"
   ]
  },
  {
   "cell_type": "code",
   "execution_count": 40,
   "id": "dc0fa8dd-8468-4377-bedd-7218219c4e10",
   "metadata": {},
   "outputs": [
    {
     "name": "stdout",
     "output_type": "stream",
     "text": [
      "Lab 0: 2/2 exercises completed (100%)\n",
      "    ✅ 2098 participants have completed this lab\n",
      "Lab 1: 9/9 exercises completed (100%)\n",
      "    ✅ 1451 participants have completed this lab\n",
      "Lab 2: 0/7 exercises completed (0%)\n",
      "    ✅ 703 participants have completed this lab\n",
      "Lab 3: 0/5 exercises completed (0%)\n",
      "    ✅ 403 participants have completed this lab\n",
      "Lab 4: 0/6 exercises completed (0%)\n",
      "    ✅ 164 participants have completed this lab\n",
      "Functions Labs: 0/8 exercises completed (0%)\n",
      "    ✅ 1 participants have completed this lab\n"
     ]
    }
   ],
   "source": [
    "from qc_grader.grader.grade import check_lab_completion_status\n",
    "check_lab_completion_status(\"qgss_2025\")"
   ]
  },
  {
   "cell_type": "code",
   "execution_count": null,
   "id": "bfb6816c-0158-4f27-969a-28febcda2597",
   "metadata": {},
   "outputs": [],
   "source": []
  }
 ],
 "metadata": {
  "kernelspec": {
   "display_name": "Python 3 [QGSS]",
   "language": "python",
   "name": "python3"
  },
  "language_info": {
   "codemirror_mode": {
    "name": "ipython",
    "version": 3
   },
   "file_extension": ".py",
   "mimetype": "text/x-python",
   "name": "python",
   "nbconvert_exporter": "python",
   "pygments_lexer": "ipython3",
   "version": "3.11.9"
  }
 },
 "nbformat": 4,
 "nbformat_minor": 5
}
